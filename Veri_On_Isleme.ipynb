{
 "cells": [
  {
   "cell_type": "code",
   "execution_count": null,
   "id": "462ce1a7",
   "metadata": {},
   "outputs": [],
   "source": [
    "# Veri Ön İşleme (Eksik Veri İşleme – Gelişmiş Yöntem)\n",
    "#Bu bölümde eksik veriler model tabanlı yöntemler ile doldurulmuş, kategorik değişkenlerde özel etiketler kullanılmıştır."
   ]
  },
  {
   "cell_type": "code",
   "execution_count": 4,
   "id": "386bbd61",
   "metadata": {},
   "outputs": [],
   "source": [
    "import pandas as pd\n",
    "from sklearn.impute import SimpleImputer\n",
    "from sklearn.preprocessing import StandardScaler, LabelEncoder\n",
    "from sklearn.model_selection import train_test_split\n",
    "\n",
    "# Veri setini tekrar yükleyelim\n",
    "df = pd.read_csv(\"hmeq.csv\")\n"
   ]
  },
  {
   "cell_type": "code",
   "execution_count": 5,
   "id": "92594148",
   "metadata": {},
   "outputs": [
    {
     "name": "stdout",
     "output_type": "stream",
     "text": [
      "Eksik değer içeren değişkenler:\n",
      "\n",
      "DEBTINC    1267\n",
      "DEROG       708\n",
      "DELINQ      580\n",
      "MORTDUE     518\n",
      "YOJ         515\n",
      "NINQ        510\n",
      "CLAGE       308\n",
      "JOB         279\n",
      "REASON      252\n",
      "CLNO        222\n",
      "VALUE       112\n",
      "dtype: int64\n"
     ]
    }
   ],
   "source": [
    "missing = df.isnull().sum()\n",
    "missing = missing[missing > 0].sort_values(ascending=False)\n",
    "print(\"Eksik değer içeren değişkenler:\\n\")\n",
    "print(missing)\n"
   ]
  },
  {
   "cell_type": "code",
   "execution_count": null,
   "id": "13222882",
   "metadata": {},
   "outputs": [],
   "source": []
  }
 ],
 "metadata": {
  "kernelspec": {
   "display_name": "Python 3",
   "language": "python",
   "name": "python3"
  },
  "language_info": {
   "codemirror_mode": {
    "name": "ipython",
    "version": 3
   },
   "file_extension": ".py",
   "mimetype": "text/x-python",
   "name": "python",
   "nbconvert_exporter": "python",
   "pygments_lexer": "ipython3",
   "version": "3.13.3"
  }
 },
 "nbformat": 4,
 "nbformat_minor": 5
}
